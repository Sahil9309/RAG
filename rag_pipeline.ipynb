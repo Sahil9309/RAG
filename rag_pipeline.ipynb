{
 "cells": [
  {
   "cell_type": "code",
   "execution_count": 5,
   "id": "f5d1d07f-7c28-4bb6-921d-28863cb22ed0",
   "metadata": {},
   "outputs": [
    {
     "name": "stdout",
     "output_type": "stream",
     "text": [
      "Requirement already satisfied: pymupdf in c:\\users\\sahil\\anaconda3\\lib\\site-packages (1.25.3)\n",
      "Requirement already satisfied: pytesseract in c:\\users\\sahil\\anaconda3\\lib\\site-packages (0.3.13)\n",
      "Requirement already satisfied: pillow in c:\\users\\sahil\\anaconda3\\lib\\site-packages (10.4.0)\n",
      "Requirement already satisfied: langchain in c:\\users\\sahil\\anaconda3\\lib\\site-packages (0.3.18)\n",
      "Requirement already satisfied: sentence-transformers in c:\\users\\sahil\\anaconda3\\lib\\site-packages (3.4.1)\n",
      "Requirement already satisfied: faiss-cpu in c:\\users\\sahil\\anaconda3\\lib\\site-packages (1.10.0)\n",
      "Requirement already satisfied: transformers in c:\\users\\sahil\\anaconda3\\lib\\site-packages (4.48.3)\n",
      "Requirement already satisfied: torch in c:\\users\\sahil\\anaconda3\\lib\\site-packages (2.6.0)\n",
      "Requirement already satisfied: torchvision in c:\\users\\sahil\\anaconda3\\lib\\site-packages (0.21.0)\n",
      "Requirement already satisfied: torchaudio in c:\\users\\sahil\\anaconda3\\lib\\site-packages (2.6.0)\n",
      "Requirement already satisfied: packaging>=21.3 in c:\\users\\sahil\\appdata\\roaming\\python\\python312\\site-packages (from pytesseract) (24.0)\n",
      "Requirement already satisfied: langchain-core<1.0.0,>=0.3.34 in c:\\users\\sahil\\anaconda3\\lib\\site-packages (from langchain) (0.3.35)\n",
      "Requirement already satisfied: langchain-text-splitters<1.0.0,>=0.3.6 in c:\\users\\sahil\\anaconda3\\lib\\site-packages (from langchain) (0.3.6)\n",
      "Requirement already satisfied: langsmith<0.4,>=0.1.17 in c:\\users\\sahil\\anaconda3\\lib\\site-packages (from langchain) (0.3.8)\n",
      "Requirement already satisfied: pydantic<3.0.0,>=2.7.4 in c:\\users\\sahil\\anaconda3\\lib\\site-packages (from langchain) (2.10.6)\n",
      "Requirement already satisfied: SQLAlchemy<3,>=1.4 in c:\\users\\sahil\\anaconda3\\lib\\site-packages (from langchain) (2.0.34)\n",
      "Requirement already satisfied: requests<3,>=2 in c:\\users\\sahil\\anaconda3\\lib\\site-packages (from langchain) (2.32.3)\n",
      "Requirement already satisfied: PyYAML>=5.3 in c:\\users\\sahil\\anaconda3\\lib\\site-packages (from langchain) (6.0.1)\n",
      "Requirement already satisfied: aiohttp<4.0.0,>=3.8.3 in c:\\users\\sahil\\anaconda3\\lib\\site-packages (from langchain) (3.10.5)\n",
      "Requirement already satisfied: tenacity!=8.4.0,<10,>=8.1.0 in c:\\users\\sahil\\anaconda3\\lib\\site-packages (from langchain) (8.2.3)\n",
      "Requirement already satisfied: numpy<3,>=1.26.2 in c:\\users\\sahil\\anaconda3\\lib\\site-packages (from langchain) (1.26.4)\n",
      "Requirement already satisfied: tqdm in c:\\users\\sahil\\anaconda3\\lib\\site-packages (from sentence-transformers) (4.66.5)\n",
      "Requirement already satisfied: scikit-learn in c:\\users\\sahil\\anaconda3\\lib\\site-packages (from sentence-transformers) (1.5.1)\n",
      "Requirement already satisfied: scipy in c:\\users\\sahil\\anaconda3\\lib\\site-packages (from sentence-transformers) (1.13.1)\n",
      "Requirement already satisfied: huggingface-hub>=0.20.0 in c:\\users\\sahil\\anaconda3\\lib\\site-packages (from sentence-transformers) (0.28.1)\n",
      "Requirement already satisfied: filelock in c:\\users\\sahil\\anaconda3\\lib\\site-packages (from transformers) (3.13.1)\n",
      "Requirement already satisfied: regex!=2019.12.17 in c:\\users\\sahil\\anaconda3\\lib\\site-packages (from transformers) (2024.9.11)\n",
      "Requirement already satisfied: tokenizers<0.22,>=0.21 in c:\\users\\sahil\\anaconda3\\lib\\site-packages (from transformers) (0.21.0)\n",
      "Requirement already satisfied: safetensors>=0.4.1 in c:\\users\\sahil\\anaconda3\\lib\\site-packages (from transformers) (0.5.2)\n",
      "Requirement already satisfied: typing-extensions>=4.10.0 in c:\\users\\sahil\\anaconda3\\lib\\site-packages (from torch) (4.12.2)\n",
      "Requirement already satisfied: networkx in c:\\users\\sahil\\anaconda3\\lib\\site-packages (from torch) (3.3)\n",
      "Requirement already satisfied: jinja2 in c:\\users\\sahil\\anaconda3\\lib\\site-packages (from torch) (3.1.4)\n",
      "Requirement already satisfied: fsspec in c:\\users\\sahil\\anaconda3\\lib\\site-packages (from torch) (2024.6.1)\n",
      "Requirement already satisfied: setuptools in c:\\users\\sahil\\anaconda3\\lib\\site-packages (from torch) (75.1.0)\n",
      "Requirement already satisfied: sympy==1.13.1 in c:\\users\\sahil\\anaconda3\\lib\\site-packages (from torch) (1.13.1)\n",
      "Requirement already satisfied: mpmath<1.4,>=1.1.0 in c:\\users\\sahil\\anaconda3\\lib\\site-packages (from sympy==1.13.1->torch) (1.3.0)\n",
      "Requirement already satisfied: aiohappyeyeballs>=2.3.0 in c:\\users\\sahil\\anaconda3\\lib\\site-packages (from aiohttp<4.0.0,>=3.8.3->langchain) (2.4.0)\n",
      "Requirement already satisfied: aiosignal>=1.1.2 in c:\\users\\sahil\\anaconda3\\lib\\site-packages (from aiohttp<4.0.0,>=3.8.3->langchain) (1.2.0)\n",
      "Requirement already satisfied: attrs>=17.3.0 in c:\\users\\sahil\\anaconda3\\lib\\site-packages (from aiohttp<4.0.0,>=3.8.3->langchain) (23.1.0)\n",
      "Requirement already satisfied: frozenlist>=1.1.1 in c:\\users\\sahil\\anaconda3\\lib\\site-packages (from aiohttp<4.0.0,>=3.8.3->langchain) (1.4.0)\n",
      "Requirement already satisfied: multidict<7.0,>=4.5 in c:\\users\\sahil\\anaconda3\\lib\\site-packages (from aiohttp<4.0.0,>=3.8.3->langchain) (6.0.4)\n",
      "Requirement already satisfied: yarl<2.0,>=1.0 in c:\\users\\sahil\\anaconda3\\lib\\site-packages (from aiohttp<4.0.0,>=3.8.3->langchain) (1.11.0)\n",
      "Requirement already satisfied: jsonpatch<2.0,>=1.33 in c:\\users\\sahil\\anaconda3\\lib\\site-packages (from langchain-core<1.0.0,>=0.3.34->langchain) (1.33)\n",
      "Requirement already satisfied: httpx<1,>=0.23.0 in c:\\users\\sahil\\anaconda3\\lib\\site-packages (from langsmith<0.4,>=0.1.17->langchain) (0.28.1)\n",
      "Requirement already satisfied: orjson<4.0.0,>=3.9.14 in c:\\users\\sahil\\anaconda3\\lib\\site-packages (from langsmith<0.4,>=0.1.17->langchain) (3.10.15)\n",
      "Requirement already satisfied: requests-toolbelt<2.0.0,>=1.0.0 in c:\\users\\sahil\\anaconda3\\lib\\site-packages (from langsmith<0.4,>=0.1.17->langchain) (1.0.0)\n",
      "Requirement already satisfied: zstandard<0.24.0,>=0.23.0 in c:\\users\\sahil\\anaconda3\\lib\\site-packages (from langsmith<0.4,>=0.1.17->langchain) (0.23.0)\n",
      "Requirement already satisfied: annotated-types>=0.6.0 in c:\\users\\sahil\\anaconda3\\lib\\site-packages (from pydantic<3.0.0,>=2.7.4->langchain) (0.6.0)\n",
      "Requirement already satisfied: pydantic-core==2.27.2 in c:\\users\\sahil\\anaconda3\\lib\\site-packages (from pydantic<3.0.0,>=2.7.4->langchain) (2.27.2)\n",
      "Requirement already satisfied: charset-normalizer<4,>=2 in c:\\users\\sahil\\anaconda3\\lib\\site-packages (from requests<3,>=2->langchain) (3.3.2)\n",
      "Requirement already satisfied: idna<4,>=2.5 in c:\\users\\sahil\\anaconda3\\lib\\site-packages (from requests<3,>=2->langchain) (2.10)\n",
      "Requirement already satisfied: urllib3<3,>=1.21.1 in c:\\users\\sahil\\anaconda3\\lib\\site-packages (from requests<3,>=2->langchain) (2.2.3)\n",
      "Requirement already satisfied: certifi>=2017.4.17 in c:\\users\\sahil\\anaconda3\\lib\\site-packages (from requests<3,>=2->langchain) (2025.1.31)\n",
      "Requirement already satisfied: greenlet!=0.4.17 in c:\\users\\sahil\\anaconda3\\lib\\site-packages (from SQLAlchemy<3,>=1.4->langchain) (3.0.1)\n",
      "Requirement already satisfied: colorama in c:\\users\\sahil\\appdata\\roaming\\python\\python312\\site-packages (from tqdm->sentence-transformers) (0.4.6)\n",
      "Requirement already satisfied: MarkupSafe>=2.0 in c:\\users\\sahil\\anaconda3\\lib\\site-packages (from jinja2->torch) (2.1.3)\n",
      "Requirement already satisfied: joblib>=1.2.0 in c:\\users\\sahil\\anaconda3\\lib\\site-packages (from scikit-learn->sentence-transformers) (1.4.2)\n",
      "Requirement already satisfied: threadpoolctl>=3.1.0 in c:\\users\\sahil\\anaconda3\\lib\\site-packages (from scikit-learn->sentence-transformers) (3.5.0)\n",
      "Requirement already satisfied: anyio in c:\\users\\sahil\\anaconda3\\lib\\site-packages (from httpx<1,>=0.23.0->langsmith<0.4,>=0.1.17->langchain) (4.2.0)\n",
      "Requirement already satisfied: httpcore==1.* in c:\\users\\sahil\\anaconda3\\lib\\site-packages (from httpx<1,>=0.23.0->langsmith<0.4,>=0.1.17->langchain) (1.0.7)\n",
      "Requirement already satisfied: h11<0.15,>=0.13 in c:\\users\\sahil\\anaconda3\\lib\\site-packages (from httpcore==1.*->httpx<1,>=0.23.0->langsmith<0.4,>=0.1.17->langchain) (0.14.0)\n",
      "Requirement already satisfied: jsonpointer>=1.9 in c:\\users\\sahil\\anaconda3\\lib\\site-packages (from jsonpatch<2.0,>=1.33->langchain-core<1.0.0,>=0.3.34->langchain) (2.1)\n",
      "Requirement already satisfied: sniffio>=1.1 in c:\\users\\sahil\\anaconda3\\lib\\site-packages (from anyio->httpx<1,>=0.23.0->langsmith<0.4,>=0.1.17->langchain) (1.3.0)\n"
     ]
    },
    {
     "name": "stderr",
     "output_type": "stream",
     "text": [
      "Device set to use cpu\n"
     ]
    },
    {
     "name": "stdout",
     "output_type": "stream",
     "text": [
      "CNCERN/CC,, , , , , , , \n"
     ]
    }
   ],
   "source": [
    "# Install required packages\n",
    "!pip install pymupdf pytesseract pillow langchain sentence-transformers faiss-cpu transformers torch torchvision torchaudio\n",
    "\n",
    "import fitz  # PyMuPDF\n",
    "import pytesseract\n",
    "from PIL import Image\n",
    "import io\n",
    "from langchain.text_splitter import RecursiveCharacterTextSplitter\n",
    "from sentence_transformers import SentenceTransformer, util\n",
    "from transformers import pipeline\n",
    "import faiss\n",
    "import numpy as np\n",
    "\n",
    "# 1. Text Extraction Function\n",
    "def extract_text_from_pdf(pdf_path, languages=['eng', 'hin', 'ben', 'chi_sim']):\n",
    "    text = \"\"\n",
    "    doc = fitz.open(pdf_path)\n",
    "    \n",
    "    for page in doc:\n",
    "        # Try text extraction for digital PDFs\n",
    "        page_text = page.get_text(\"text\")\n",
    "        if page_text.strip():  # Digital PDF\n",
    "            text += page_text + \"\\n\"\n",
    "        else:  # Scanned PDF (OCR)\n",
    "            pix = page.get_pixmap()\n",
    "            img = Image.open(io.BytesIO(pix.tobytes()))\n",
    "            \n",
    "            # Try OCR with multiple languages\n",
    "            for lang in languages:\n",
    "                try:\n",
    "                    text += pytesseract.image_to_string(img, lang=lang)\n",
    "                    break\n",
    "                except Exception as e:\n",
    "                    print(f\"Error using language {lang}: {e}\")\n",
    "    \n",
    "    return text.strip()\n",
    "\n",
    "# 2. Text Processing (Improved chunking)\n",
    "def process_text(text):\n",
    "    # Use sentence-based chunking\n",
    "    text_splitter = RecursiveCharacterTextSplitter(\n",
    "        chunk_size=400,  # Reduced to capture more relevant info per chunk\n",
    "        chunk_overlap=100,\n",
    "        separators=[\"\\n\\n\", \"\\n\", \".\", \"?\", \"!\", \"।\", \"。\", \"？\"]\n",
    "    )\n",
    "    return text_splitter.split_text(text)\n",
    "\n",
    "# 3. Embedding and Vector Store Setup\n",
    "model = SentenceTransformer('sentence-transformers/paraphrase-multilingual-MiniLM-L12-v2')\n",
    "\n",
    "def create_vector_store(chunks):\n",
    "    embeddings = model.encode(chunks, normalize_embeddings=True)  # Normalized embeddings for cosine similarity\n",
    "    dimension = embeddings.shape[1]\n",
    "    index = faiss.IndexFlatIP(dimension)  # Inner Product (for Cosine Similarity)\n",
    "    index.add(embeddings)\n",
    "    return index, embeddings\n",
    "\n",
    "# 4. Retrieval and Generation (Improved Retrieval)\n",
    "class RAGSystem:\n",
    "    def __init__(self, index, embeddings, chunks):\n",
    "        self.index = index\n",
    "        self.embeddings = embeddings\n",
    "        self.chunks = chunks\n",
    "        self.llm = pipeline(\"text2text-generation\", model=\"google/flan-t5-small\", max_length=500)\n",
    "\n",
    "    def query(self, question, k=3):\n",
    "        # Retrieve top-k relevant chunks using cosine similarity\n",
    "        query_embedding = model.encode([question], normalize_embeddings=True)\n",
    "        _, indices = self.index.search(query_embedding, k)\n",
    "        \n",
    "        # Rerank based on cosine similarity scores\n",
    "        retrieved_chunks = [self.chunks[i] for i in indices[0]]\n",
    "        similarities = [util.cos_sim(query_embedding, self.embeddings[i]) for i in indices[0]]\n",
    "        sorted_chunks = [chunk for _, chunk in sorted(zip(similarities, retrieved_chunks), reverse=True)]\n",
    "\n",
    "        # Format context properly\n",
    "        context = \"\\n\".join(sorted_chunks)\n",
    "\n",
    "        # Generate response with better prompt engineering\n",
    "        prompt = f\"Answer the following question based on the provided context:\\n\\nContext:\\n{context}\\n\\nQuestion: {question}\\nAnswer:\"\n",
    "        \n",
    "        return self.llm(prompt)[0]['generated_text']\n",
    "\n",
    "# Usage Example\n",
    "if __name__ == \"__main__\":\n",
    "    # Specify the absolute path to your PDF file\n",
    "    file_path = r\"C:/Users/sahil/Desktop/project/data/en/Reboot_Leadership_and_the_Art_of.pdf\"\n",
    "    file_path = r\"C:/Users/sahil/Desktop/project/data/zh/1553a07b-9f53-4e8b-9987-ae714000b95b.pdf\"\n",
    "\n",
    "    # Extract text\n",
    "    text = extract_text_from_pdf(file_path)\n",
    "    \n",
    "    # Process text\n",
    "    chunks = process_text(text)\n",
    "    \n",
    "    # Create vector store\n",
    "    index, embeddings = create_vector_store(chunks)\n",
    "    \n",
    "    # Initialize RAG system\n",
    "    rag = RAGSystem(index, embeddings, chunks)\n",
    "    \n",
    "    # Query example\n",
    "    #print(rag.query(\"What is the core belief about leadership presented in Reboot: Leadership and the Art of Growing Up?\"))\n"
   ]
  },
  {
   "cell_type": "code",
   "execution_count": 13,
   "id": "4045a950-fb68-440a-8140-a9b658ac65ff",
   "metadata": {},
   "outputs": [
    {
     "name": "stdout",
     "output_type": "stream",
     "text": [
      "Leadership is the art of growing up\n"
     ]
    }
   ],
   "source": [
    "print(rag.query(\"What is the core belief about leadership presented in Reboot: Leadership and the Art of Growing Up?\"))\n"
   ]
  },
  {
   "cell_type": "code",
   "execution_count": 15,
   "id": "40163dcd-d275-4241-b0db-25ee3e4ee162",
   "metadata": {},
   "outputs": [
    {
     "name": "stdout",
     "output_type": "stream",
     "text": [
      "Lead from the place of your truest self\n"
     ]
    }
   ],
   "source": [
    "print(rag.query(\"What role does self-inquiry play in leadership according to the book?\"))"
   ]
  },
  {
   "cell_type": "code",
   "execution_count": 17,
   "id": "dcd62c1c-0c18-46c3-aa0c-bb618c0a4c3f",
   "metadata": {},
   "outputs": [
    {
     "name": "stdout",
     "output_type": "stream",
     "text": [
      "It is a journey of self-actualization\n"
     ]
    }
   ],
   "source": [
    "print(rag.query(\" What is the significance of ‘taking your seat’ in leadership?\"))"
   ]
  }
 ],
 "metadata": {
  "kernelspec": {
   "display_name": "Python 3 (ipykernel)",
   "language": "python",
   "name": "python3"
  },
  "language_info": {
   "codemirror_mode": {
    "name": "ipython",
    "version": 3
   },
   "file_extension": ".py",
   "mimetype": "text/x-python",
   "name": "python",
   "nbconvert_exporter": "python",
   "pygments_lexer": "ipython3",
   "version": "3.12.7"
  }
 },
 "nbformat": 4,
 "nbformat_minor": 5
}
